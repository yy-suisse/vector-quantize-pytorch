{
 "cells": [
  {
   "cell_type": "code",
   "execution_count": 5,
   "id": "0aec9ab4",
   "metadata": {},
   "outputs": [],
   "source": [
    "import torch\n",
    "import polars as pl\n",
    "import utils.model as model_utils\n",
    "from tqdm.auto import tqdm  # Add this at top if not already\n",
    "FILE_PATH = \"D:/finetune_sbert_new/1Membeddings/result_embeddings/\"\n",
    "\n",
    "FILE_PATH_SAVE = \"D:/finetune_sbert_new/1Membeddings/lora_16_quantized/\"\n",
    "device = torch.device(\"cuda\" if torch.cuda.is_available() else \"cpu\")\n",
    "\n",
    "model_name = FILE_PATH_SAVE + \"quantized_lora_16_1000_5.pt\""
   ]
  },
  {
   "cell_type": "markdown",
   "id": "7f652693",
   "metadata": {},
   "source": [
    "# 1. load model"
   ]
  },
  {
   "cell_type": "code",
   "execution_count": 6,
   "id": "be3b025b",
   "metadata": {},
   "outputs": [
    {
     "data": {
      "text/plain": [
       "<All keys matched successfully>"
      ]
     },
     "execution_count": 6,
     "metadata": {},
     "output_type": "execute_result"
    }
   ],
   "source": [
    "# load model \n",
    "model = model_utils.initialize_model()\n",
    "model.load_state_dict(torch.load(model_name)['model_state_dict'])"
   ]
  },
  {
   "cell_type": "code",
   "execution_count": null,
   "id": "036d6327",
   "metadata": {},
   "outputs": [],
   "source": [
    "embedding_name = \"sapbert_lora_triplet16\"\n",
    "model.eval()\n",
    "model.to(device)\n"
   ]
  },
  {
   "cell_type": "markdown",
   "id": "5f3721d7",
   "metadata": {},
   "source": [
    "# 2. embed quantized data"
   ]
  },
  {
   "cell_type": "code",
   "execution_count": null,
   "id": "392bd3f4",
   "metadata": {},
   "outputs": [
    {
     "name": "stdout",
     "output_type": "stream",
     "text": [
      "Average cosine similarity: 0.8048\n",
      "Average cosine similarity: 0.7939\n"
     ]
    }
   ],
   "source": [
    "# Load the dataset\n",
    "embeddings = torch.load(FILE_PATH + embedding_name +\".pt\")\n",
    "\n",
    "embedding_exp = embeddings[\"expressions_embeddings\"].to(model_utils.Config.device)\n",
    "embedding_label = embeddings[\"labels_embeddings\"].to(model_utils.Config.device)\n",
    "embedding_exp_q,_ = model_utils.evaluate(model, embedding_exp)\n",
    "embedding_label_q,_ = model_utils.evaluate(model, embedding_label)\n"
   ]
  },
  {
   "cell_type": "code",
   "execution_count": 12,
   "id": "af56a39b",
   "metadata": {},
   "outputs": [],
   "source": [
    "\n",
    "torch.save({\n",
    "    \"embedding_exp_q\": embedding_exp_q.cpu(),   # move to CPU for saving\n",
    "    \"embedding_label_q\": embedding_label_q.cpu()\n",
    "}, FILE_PATH_SAVE + embedding_name + \"_quantized.pt\")"
   ]
  },
  {
   "cell_type": "markdown",
   "id": "5afedef1",
   "metadata": {},
   "source": [
    "# embed synonyme quantized"
   ]
  },
  {
   "cell_type": "code",
   "execution_count": 25,
   "id": "6611eb43",
   "metadata": {},
   "outputs": [
    {
     "name": "stdout",
     "output_type": "stream",
     "text": [
      "Average cosine similarity: 0.7729\n"
     ]
    }
   ],
   "source": [
    "syn_embeddings = torch.load(FILE_PATH + embedding_name +\"_fd_syn_.pt\")\n",
    "\n",
    "embedding_syn = syn_embeddings[\"synonyme\"]\n",
    "embedding_exp = syn_embeddings[\"expressions_embeddings\"].to(model_utils.Config.device)\n",
    "idx = syn_embeddings['idx']\n",
    "# embedding_syn_q,_ = model_utils.evaluate(model, embedding_syn)\n",
    "embedding_exp_q,_ = model_utils.evaluate(model, embedding_exp)"
   ]
  },
  {
   "cell_type": "code",
   "execution_count": null,
   "id": "d6f5d071",
   "metadata": {},
   "outputs": [],
   "source": [
    "\n",
    "torch.save(\n",
    "    {\n",
    "        \"synonyme\": embedding_syn,  # move to CPU for saving\n",
    "        \"expressions_embeddings\": embedding_exp_q.cpu(),\n",
    "        \"idx\": idx,\n",
    "    },\n",
    "    FILE_PATH_SAVE + embedding_name + \"_syn_quantized.pt\",\n",
    ")\n"
   ]
  },
  {
   "cell_type": "markdown",
   "id": "c55dc9c5",
   "metadata": {},
   "source": [
    "# is_a_invariant"
   ]
  },
  {
   "cell_type": "code",
   "execution_count": 27,
   "id": "79dfe30a",
   "metadata": {},
   "outputs": [
    {
     "name": "stdout",
     "output_type": "stream",
     "text": [
      "Average cosine similarity: 0.7462\n"
     ]
    }
   ],
   "source": [
    "embedding_new_expressions = torch.load(FILE_PATH + embedding_name +\"new_exp.pt\")\n",
    "\n",
    "embedding_new_exp = embedding_new_expressions[\"new_expressions_embeddings\"].to(model_utils.Config.device)\n",
    "idx_true = embedding_new_expressions[\"idx_true\"]\n",
    "# embedding_syn_q,_ = model_utils.evaluate(model, embedding_syn)\n",
    "embedding_exp_q,_ = model_utils.evaluate(model, embedding_new_exp)\n",
    "\n",
    "\n",
    "torch.save(\n",
    "    {\n",
    "        \"new_expressions_embeddings\": embedding_exp_q.cpu(),  # move to CPU for saving\n",
    "        \"idx_true\": idx_true,\n",
    "    },\n",
    "    FILE_PATH_SAVE + embedding_name + \"_new_exp_quantized.pt\",\n",
    ")"
   ]
  }
 ],
 "metadata": {
  "kernelspec": {
   "display_name": "Python 3",
   "language": "python",
   "name": "python3"
  },
  "language_info": {
   "codemirror_mode": {
    "name": "ipython",
    "version": 3
   },
   "file_extension": ".py",
   "mimetype": "text/x-python",
   "name": "python",
   "nbconvert_exporter": "python",
   "pygments_lexer": "ipython3",
   "version": "3.11.1"
  }
 },
 "nbformat": 4,
 "nbformat_minor": 5
}
