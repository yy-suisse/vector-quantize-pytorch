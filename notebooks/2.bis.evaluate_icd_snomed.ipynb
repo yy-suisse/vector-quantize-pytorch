{
 "cells": [
  {
   "cell_type": "code",
   "execution_count": 17,
   "id": "926bdd1f",
   "metadata": {},
   "outputs": [],
   "source": [
    "import torch\n",
    "import polars as pl\n",
    "import utils.model as model_utils\n",
    "from tqdm.auto import tqdm\n",
    "import pickle\n",
    "import torch.nn.functional as F\n",
    "import numpy as np \n",
    "FILE_PATH = \"D:/UMLS/\"\n",
    "FILE_PATH_SAVE = \"D:/finetune_sbert_new/1Membeddings/lora_16_quantized/\"\n",
    "\n",
    "device = torch.device(\"cuda\" if torch.cuda.is_available() else \"cpu\")\n",
    "model_name = FILE_PATH_SAVE + \"quantized_lora_16_1000_5.pt\""
   ]
  },
  {
   "cell_type": "markdown",
   "id": "39adc0c9",
   "metadata": {},
   "source": [
    "# load mapping and embeddings"
   ]
  },
  {
   "cell_type": "code",
   "execution_count": 7,
   "id": "2cacf397",
   "metadata": {},
   "outputs": [],
   "source": [
    "snomed_info = pl.read_csv(\"D:/UMLS/snomed_info.csv\")\n",
    "icd_info = pl.read_csv(\"D:/UMLS/icd_info.csv\")\n",
    "with open(FILE_PATH + \"icd_snomed_mappings.pkl\", \"rb\") as f:\n",
    "    loaded_mappings = pickle.load(f)\n",
    "\n",
    "# Access individual mappings like:\n",
    "id2snomed = loaded_mappings[\"id2snomed\"]\n",
    "id2icd = loaded_mappings[\"id2icd\"]\n",
    "snomed2id = loaded_mappings[\"snomed2id\"]\n",
    "icd2id = loaded_mappings[\"icd2id\"]\n",
    "icd2snomed = loaded_mappings[\"icd2snomed\"]\n",
    "snomed2icd = loaded_mappings[\"snomed2icd\"]\n",
    "\n",
    "embeddings = torch.load(FILE_PATH + \"sapbert_lora_triplet_rank16_merged.pt\")\n",
    "icd_embeddings = torch.tensor(embeddings[\"icd_embeddings\"]).to(device)\n",
    "snomed_embeddings = torch.tensor(embeddings[\"snomed_embeddings\"]).to(device)"
   ]
  },
  {
   "cell_type": "markdown",
   "id": "c82bcd6a",
   "metadata": {},
   "source": [
    "# 1. icd to snomed"
   ]
  },
  {
   "cell_type": "code",
   "execution_count": 30,
   "id": "82754523",
   "metadata": {},
   "outputs": [],
   "source": [
    "def get_similarity_score_icd2snomed(icd_embeddings, snomed_embeddings, icd2snomed):\n",
    "    \"\"\"\n",
    "    Calculate the similarity score between ICD and SNOMED embeddings.\n",
    "    \"\"\"\n",
    "    cosine_sim_all = []\n",
    "    for icd in icd2snomed.keys():\n",
    "        icd_embedding = icd_embeddings[int(icd)]\n",
    "        snomed_embedding = snomed_embeddings[icd2snomed[icd]]\n",
    "\n",
    "        cosine_sim = F.cosine_similarity(icd_embedding, snomed_embedding.sum(dim=0), dim=0)\n",
    "        cosine_sim_all.append(cosine_sim.item())\n",
    "    return np.array(cosine_sim_all)"
   ]
  },
  {
   "cell_type": "code",
   "execution_count": 31,
   "id": "30fc2624",
   "metadata": {},
   "outputs": [],
   "source": [
    "cosine_sim_all = get_similarity_score_icd2snomed(icd_embeddings, snomed_embeddings, icd2snomed)"
   ]
  },
  {
   "cell_type": "code",
   "execution_count": 32,
   "id": "dc5684dc",
   "metadata": {},
   "outputs": [
    {
     "data": {
      "text/plain": [
       "(0.7801330139307064,\n",
       " 0.1735793493375094,\n",
       " -0.0774565041065216,\n",
       " 0.9965282678604126)"
      ]
     },
     "execution_count": 32,
     "metadata": {},
     "output_type": "execute_result"
    }
   ],
   "source": [
    "np.array(cosine_sim_all).mean(), np.array(cosine_sim_all).std(), np.array(cosine_sim_all).min(), np.array(cosine_sim_all).max()\n"
   ]
  },
  {
   "cell_type": "markdown",
   "id": "92226a03",
   "metadata": {},
   "source": [
    "## 2. quantize and evaluate"
   ]
  },
  {
   "cell_type": "code",
   "execution_count": null,
   "id": "aa9d7595",
   "metadata": {},
   "outputs": [],
   "source": [
    "model_name = FILE_PATH_SAVE + \"quantized_lora_16_1000_5.pt\"\n",
    "\n",
    "# load model \n",
    "model = model_utils.initialize_model()\n",
    "model.load_state_dict(torch.load(model_name)['model_state_dict'])\n",
    "\n",
    "model.eval()\n",
    "model.to(device)"
   ]
  },
  {
   "cell_type": "code",
   "execution_count": 35,
   "id": "858acd34",
   "metadata": {},
   "outputs": [
    {
     "name": "stdout",
     "output_type": "stream",
     "text": [
      "Average cosine similarity: 0.7804\n",
      "Average cosine similarity: 0.7864\n"
     ]
    }
   ],
   "source": [
    "icd_embeddings_q,_ = model_utils.evaluate(model, icd_embeddings)\n",
    "snomed_embeddings_q,_ = model_utils.evaluate(model, snomed_embeddings)"
   ]
  },
  {
   "cell_type": "code",
   "execution_count": 37,
   "id": "f93d1efc",
   "metadata": {},
   "outputs": [
    {
     "data": {
      "text/plain": [
       "(0.7967629565292343,\n",
       " 0.16910495326887415,\n",
       " -0.096503846347332,\n",
       " 1.000000238418579)"
      ]
     },
     "execution_count": 37,
     "metadata": {},
     "output_type": "execute_result"
    }
   ],
   "source": [
    "cosine_sim_all_q = get_similarity_score_icd2snomed(icd_embeddings_q, snomed_embeddings_q, icd2snomed)\n",
    "np.array(cosine_sim_all_q).mean(), np.array(cosine_sim_all_q).std(), np.array(cosine_sim_all_q).min(), np.array(cosine_sim_all_q).max()\n"
   ]
  }
 ],
 "metadata": {
  "kernelspec": {
   "display_name": "Python 3",
   "language": "python",
   "name": "python3"
  },
  "language_info": {
   "codemirror_mode": {
    "name": "ipython",
    "version": 3
   },
   "file_extension": ".py",
   "mimetype": "text/x-python",
   "name": "python",
   "nbconvert_exporter": "python",
   "pygments_lexer": "ipython3",
   "version": "3.11.1"
  }
 },
 "nbformat": 4,
 "nbformat_minor": 5
}
