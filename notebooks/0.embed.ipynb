{
 "cells": [
  {
   "cell_type": "code",
   "execution_count": 1,
   "id": "0a5a95fb",
   "metadata": {},
   "outputs": [],
   "source": [
    "import torch\n",
    "import polars as pl\n",
    "from tqdm.auto import tqdm  # Add this at top if not already\n",
    "import pickle\n"
   ]
  },
  {
   "cell_type": "code",
   "execution_count": 2,
   "id": "a8cbd7df",
   "metadata": {},
   "outputs": [],
   "source": [
    "PATH = \"D:/UMLS/\"\n",
    "FILE_PATH = \"D:/UMLS/exact_mapping.csv\"\n",
    "SAVE_PATH = \"D:/UMLS/icd_snomed_mappings.pkl\"\n"
   ]
  },
  {
   "cell_type": "code",
   "execution_count": 3,
   "id": "7842abe6",
   "metadata": {},
   "outputs": [],
   "source": [
    "\n",
    "# Load the CSV file into a Polars DataFrame\n",
    "df_mapping = pl.read_csv(FILE_PATH)\n",
    "\n",
    "df_mapping_snomed = df_mapping[\"SNOMED_ID\", \"SNOMED_label\"].unique()\n",
    "s = pl.Series(\"idx\", range(len(df_mapping_snomed)))\n",
    "df_mapping_snomed.insert_column(0, s).write_csv(\"D:/UMLS/snomed_info.csv\")\n",
    "\n",
    "df_mapping_icd = df_mapping[\"ICD_ID\", \"ICD_label\"].unique()\n",
    "s = pl.Series(\"idx\", range(len(df_mapping_icd)))\n",
    "df_mapping_icd.insert_column(0, s).write_csv(\"D:/UMLS/icd_info.csv\")\n",
    "\n",
    "id2snomed = dict(zip(df_mapping_snomed[\"idx\"], df_mapping_snomed[\"SNOMED_ID\"]))\n",
    "id2icd = dict(zip(df_mapping_icd[\"idx\"], df_mapping_icd[\"ICD_ID\"]))\n",
    "snomed2id = dict(zip(df_mapping_snomed[\"SNOMED_ID\"], df_mapping_snomed[\"idx\"]))\n",
    "icd2id = dict(zip(df_mapping_icd[\"ICD_ID\"], df_mapping_icd[\"idx\"]))"
   ]
  },
  {
   "cell_type": "code",
   "execution_count": 4,
   "id": "c4f3b13a",
   "metadata": {},
   "outputs": [],
   "source": [
    "df_mapping = df_mapping.with_columns(idx_snomed = pl.col(\"SNOMED_ID\").replace(snomed2id),\n",
    "                        idx_icd = pl.col(\"ICD_ID\").replace(icd2id))"
   ]
  },
  {
   "cell_type": "code",
   "execution_count": 5,
   "id": "a8283d12",
   "metadata": {},
   "outputs": [],
   "source": [
    "df_icd2snomed = df_mapping.group_by(\"idx_icd\").agg(\"idx_snomed\")\n",
    "icd2snomed = dict(zip(df_icd2snomed[\"idx_icd\"], df_icd2snomed[\"idx_snomed\"]))\n",
    "\n",
    "df_snomed2icd = df_mapping.group_by(\"idx_snomed\").agg(\"idx_icd\")\n",
    "snomed2icd = dict(zip(df_snomed2icd[\"idx_snomed\"], df_snomed2icd[\"idx_icd\"]))\n",
    "\n",
    "\n"
   ]
  },
  {
   "cell_type": "code",
   "execution_count": 6,
   "id": "38c6cb9d",
   "metadata": {},
   "outputs": [
    {
     "name": "stdout",
     "output_type": "stream",
     "text": [
      "All mappings saved to: D:/UMLS/icd_snomed_mappings.pkl\n"
     ]
    }
   ],
   "source": [
    "all_mappings = {\n",
    "    \"icd2snomed\": icd2snomed,\n",
    "    \"snomed2icd\": snomed2icd,\n",
    "    \"id2snomed\": id2snomed,\n",
    "    \"snomed2id\": snomed2id,\n",
    "    \"id2icd\": id2icd,\n",
    "    \"icd2id\": icd2id,\n",
    "}\n",
    "\n",
    "with open(SAVE_PATH, \"wb\") as f:\n",
    "    pickle.dump(all_mappings, f)\n",
    "\n",
    "print(f\"All mappings saved to: {SAVE_PATH}\")"
   ]
  },
  {
   "cell_type": "markdown",
   "id": "318f3f98",
   "metadata": {},
   "source": [
    "# embed all labels"
   ]
  },
  {
   "cell_type": "code",
   "execution_count": 7,
   "id": "fc7b4fa6",
   "metadata": {},
   "outputs": [],
   "source": [
    "from sentence_transformers import SentenceTransformer\n",
    "device = torch.device(\"cuda\" if torch.cuda.is_available() else \"cpu\")\n"
   ]
  },
  {
   "cell_type": "code",
   "execution_count": 8,
   "id": "d3027aab",
   "metadata": {},
   "outputs": [],
   "source": [
    "snomed_info = pl.read_csv(\"D:/UMLS/snomed_info.csv\")\n",
    "icd_info = pl.read_csv(\"D:/UMLS/icd_info.csv\")\n",
    "with open(SAVE_PATH, \"rb\") as f:\n",
    "    loaded_mappings = pickle.load(f)\n",
    "\n",
    "# Access individual mappings like:\n",
    "id2snomed = loaded_mappings[\"id2snomed\"]\n",
    "id2icd = loaded_mappings[\"id2icd\"]\n",
    "snomed2id = loaded_mappings[\"snomed2id\"]\n",
    "icd2id = loaded_mappings[\"icd2id\"]\n",
    "icd2snomed = loaded_mappings[\"icd2snomed\"]\n",
    "snomed2icd = loaded_mappings[\"snomed2icd\"]"
   ]
  },
  {
   "cell_type": "code",
   "execution_count": 9,
   "id": "d0fc4339",
   "metadata": {},
   "outputs": [],
   "source": [
    "snomed_labels = snomed_info[\"SNOMED_label\"].to_list()\n",
    "icd_labels = icd_info[\"ICD_label\"].to_list()"
   ]
  },
  {
   "cell_type": "code",
   "execution_count": 14,
   "id": "17ed9b49",
   "metadata": {},
   "outputs": [
    {
     "data": {
      "application/vnd.jupyter.widget-view+json": {
       "model_id": "5152b480e0fb47519401a443f7c4c0d0",
       "version_major": 2,
       "version_minor": 0
      },
      "text/plain": [
       "modules.json:   0%|          | 0.00/242 [00:00<?, ?B/s]"
      ]
     },
     "metadata": {},
     "output_type": "display_data"
    },
    {
     "name": "stderr",
     "output_type": "stream",
     "text": [
      "c:\\Users\\yy\\AppData\\Local\\Programs\\Python\\Python311\\Lib\\site-packages\\huggingface_hub\\file_download.py:139: UserWarning: `huggingface_hub` cache-system uses symlinks by default to efficiently store duplicated files but your machine does not support them in C:\\Users\\yy\\.cache\\huggingface\\hub\\models--yyzheng00--sapbert_lora_triplet_rank16_merged. Caching files will still work but in a degraded version that might require more space on your disk. This warning can be disabled by setting the `HF_HUB_DISABLE_SYMLINKS_WARNING` environment variable. For more details, see https://huggingface.co/docs/huggingface_hub/how-to-cache#limitations.\n",
      "To support symlinks on Windows, you either need to activate Developer Mode or to run Python as an administrator. In order to activate developer mode, see this article: https://docs.microsoft.com/en-us/windows/apps/get-started/enable-your-device-for-development\n",
      "  warnings.warn(message)\n"
     ]
    },
    {
     "data": {
      "application/vnd.jupyter.widget-view+json": {
       "model_id": "7cc13f6f8312415182a165e134186380",
       "version_major": 2,
       "version_minor": 0
      },
      "text/plain": [
       "config_sentence_transformers.json:   0%|          | 0.00/214 [00:00<?, ?B/s]"
      ]
     },
     "metadata": {},
     "output_type": "display_data"
    },
    {
     "data": {
      "application/vnd.jupyter.widget-view+json": {
       "model_id": "164677905b3843029cb207e6bdfb601d",
       "version_major": 2,
       "version_minor": 0
      },
      "text/plain": [
       "README.md:   0%|          | 0.00/3.86k [00:00<?, ?B/s]"
      ]
     },
     "metadata": {},
     "output_type": "display_data"
    },
    {
     "data": {
      "application/vnd.jupyter.widget-view+json": {
       "model_id": "de5fb1ca7bac4587856d3f56afa1c66b",
       "version_major": 2,
       "version_minor": 0
      },
      "text/plain": [
       "sentence_bert_config.json:   0%|          | 0.00/56.0 [00:00<?, ?B/s]"
      ]
     },
     "metadata": {},
     "output_type": "display_data"
    },
    {
     "data": {
      "application/vnd.jupyter.widget-view+json": {
       "model_id": "4e98db9d4a8a40a788d2968574eb6b44",
       "version_major": 2,
       "version_minor": 0
      },
      "text/plain": [
       "config.json:   0%|          | 0.00/691 [00:00<?, ?B/s]"
      ]
     },
     "metadata": {},
     "output_type": "display_data"
    },
    {
     "data": {
      "application/vnd.jupyter.widget-view+json": {
       "model_id": "8fa94f46dffd450e8ab133b928b36341",
       "version_major": 2,
       "version_minor": 0
      },
      "text/plain": [
       "model.safetensors:   0%|          | 0.00/438M [00:00<?, ?B/s]"
      ]
     },
     "metadata": {},
     "output_type": "display_data"
    },
    {
     "data": {
      "application/vnd.jupyter.widget-view+json": {
       "model_id": "a7f312a4bd1c44529895ee9193ba4005",
       "version_major": 2,
       "version_minor": 0
      },
      "text/plain": [
       "tokenizer_config.json:   0%|          | 0.00/1.38k [00:00<?, ?B/s]"
      ]
     },
     "metadata": {},
     "output_type": "display_data"
    },
    {
     "data": {
      "application/vnd.jupyter.widget-view+json": {
       "model_id": "91e97da8b5d44221b83d6192799e8f52",
       "version_major": 2,
       "version_minor": 0
      },
      "text/plain": [
       "vocab.txt:   0%|          | 0.00/226k [00:00<?, ?B/s]"
      ]
     },
     "metadata": {},
     "output_type": "display_data"
    },
    {
     "data": {
      "application/vnd.jupyter.widget-view+json": {
       "model_id": "a13237fd16d74526bbcf65e1a9ef43f5",
       "version_major": 2,
       "version_minor": 0
      },
      "text/plain": [
       "tokenizer.json:   0%|          | 0.00/706k [00:00<?, ?B/s]"
      ]
     },
     "metadata": {},
     "output_type": "display_data"
    },
    {
     "data": {
      "application/vnd.jupyter.widget-view+json": {
       "model_id": "357ea3e37eec46c2acecf3968a26d354",
       "version_major": 2,
       "version_minor": 0
      },
      "text/plain": [
       "special_tokens_map.json:   0%|          | 0.00/732 [00:00<?, ?B/s]"
      ]
     },
     "metadata": {},
     "output_type": "display_data"
    },
    {
     "data": {
      "application/vnd.jupyter.widget-view+json": {
       "model_id": "7fc3a1a164ee4760835d59f78eb8299f",
       "version_major": 2,
       "version_minor": 0
      },
      "text/plain": [
       "config.json:   0%|          | 0.00/305 [00:00<?, ?B/s]"
      ]
     },
     "metadata": {},
     "output_type": "display_data"
    },
    {
     "data": {
      "application/vnd.jupyter.widget-view+json": {
       "model_id": "9e5d2609f4d2410f9778f283af40b211",
       "version_major": 2,
       "version_minor": 0
      },
      "text/plain": [
       "Batches:   0%|          | 0/1424 [00:00<?, ?it/s]"
      ]
     },
     "metadata": {},
     "output_type": "display_data"
    },
    {
     "data": {
      "application/vnd.jupyter.widget-view+json": {
       "model_id": "bb598bc024044fb0b29ddbcd0c9a7737",
       "version_major": 2,
       "version_minor": 0
      },
      "text/plain": [
       "Batches:   0%|          | 0/162 [00:00<?, ?it/s]"
      ]
     },
     "metadata": {},
     "output_type": "display_data"
    }
   ],
   "source": [
    "model = SentenceTransformer(\"yyzheng00/sapbert_lora_triplet_rank16_merged\", device=device)\n",
    "embeddings_snomed = model.encode(snomed_labels, batch_size=32, show_progress_bar=True)\n",
    "embeddings_icd = model.encode(icd_labels, batch_size=32, show_progress_bar=True)\n",
    "\n",
    "save_path_embed =  PATH + \"sapbert_lora_triplet_rank16_merged.pt\" \n",
    "torch.save({\n",
    "    \"model_name\": \"sapbert_lora_triplet_rank16\",\n",
    "    \"snomed_embeddings\": embeddings_snomed,\n",
    "    \"icd_embeddings\": embeddings_icd,\n",
    "}, save_path_embed)"
   ]
  },
  {
   "cell_type": "code",
   "execution_count": 15,
   "id": "b207a295",
   "metadata": {},
   "outputs": [
    {
     "data": {
      "text/plain": [
       "(5156, 768)"
      ]
     },
     "execution_count": 15,
     "metadata": {},
     "output_type": "execute_result"
    }
   ],
   "source": [
    "embeddings_icd.shape"
   ]
  }
 ],
 "metadata": {
  "kernelspec": {
   "display_name": "Python 3",
   "language": "python",
   "name": "python3"
  },
  "language_info": {
   "codemirror_mode": {
    "name": "ipython",
    "version": 3
   },
   "file_extension": ".py",
   "mimetype": "text/x-python",
   "name": "python",
   "nbconvert_exporter": "python",
   "pygments_lexer": "ipython3",
   "version": "3.11.1"
  }
 },
 "nbformat": 4,
 "nbformat_minor": 5
}
